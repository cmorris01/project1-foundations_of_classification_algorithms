{
 "cells": [
  {
   "cell_type": "markdown",
   "id": "b6e636a4",
   "metadata": {},
   "source": [
    "### Project 1 — End-to-End ML Workflow \n",
    "\n",
    "This notebook orchestrates the full classification workflow:\n",
    "\n",
    "1) **Load & Preprocess & Train/Val/Test Splits** \n",
    "\n",
    "2) **Model Showcases**  \n",
    "\n",
    "3) **Evaluation**  \n",
    "---"
   ]
  },
  {
   "cell_type": "code",
   "execution_count": 16,
   "id": "cba44da8",
   "metadata": {},
   "outputs": [],
   "source": [
    "# set working directory to project root\n",
    "import os\n",
    "os.chdir(\"..\")  # or full path to project root\n",
    "# imports\n",
    "import numpy as np\n",
    "import pandas as pd\n",
    "import matplotlib.pyplot as plt\n",
    "import seaborn as sns\n",
    "from scripts.preprocess import preprocess_data, split_data, load_data\n",
    "from scripts.perceptron_model import Perceptron\n",
    "from scripts.adalinesgd_model import AdalineSGD"
   ]
  },
  {
   "cell_type": "markdown",
   "id": "e8d48c8b",
   "metadata": {},
   "source": [
    "#### Preprocessing:"
   ]
  },
  {
   "cell_type": "code",
   "execution_count": 21,
   "id": "32f314d5",
   "metadata": {},
   "outputs": [],
   "source": [
    "# read in data\n",
    "raw_df = load_data(\"data/project_adult.csv\")\n",
    "\n",
    "# split into train and test\n",
    "X_train, X_test, y_train, y_test = split_data(df=raw_df, target_column=\"income\")\n",
    "\n",
    "# preprocess the data\n",
    "X_train_processed = preprocess_data(X_train)\n",
    "X_test_processed = preprocess_data(X_test)"
   ]
  }
 ],
 "metadata": {
  "kernelspec": {
   "display_name": ".venv",
   "language": "python",
   "name": "python3"
  },
  "language_info": {
   "codemirror_mode": {
    "name": "ipython",
    "version": 3
   },
   "file_extension": ".py",
   "mimetype": "text/x-python",
   "name": "python",
   "nbconvert_exporter": "python",
   "pygments_lexer": "ipython3",
   "version": "3.12.6"
  }
 },
 "nbformat": 4,
 "nbformat_minor": 5
}
